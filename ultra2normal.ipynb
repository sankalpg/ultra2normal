{
 "cells": [
  {
   "cell_type": "code",
   "execution_count": 11,
   "id": "db5c9bf9",
   "metadata": {},
   "outputs": [],
   "source": [
    "# we want to avoid using pandas to be a light weight app. But that involves reading a CSV with some work\n",
    "import csv\n",
    "from datetime import datetime\n",
    "import os\n",
    "from io import BytesIO\n",
    "import pandas as pd"
   ]
  },
  {
   "cell_type": "code",
   "execution_count": 12,
   "id": "a358fa55",
   "metadata": {},
   "outputs": [],
   "source": [
    "ultra_file = '/Users/naad/Downloads/Glucose_data_stint_1_25May_8Jun_UH.csv'"
   ]
  },
  {
   "cell_type": "markdown",
   "id": "39f6257b",
   "metadata": {},
   "source": [
    "# Reading ultrahuman file"
   ]
  },
  {
   "cell_type": "code",
   "execution_count": 28,
   "id": "a42589e3",
   "metadata": {},
   "outputs": [],
   "source": [
    "class Ultra2Normal():\n",
    "    def __init__(self, filename, user_name, patient_id, date=None):\n",
    "        if date:\n",
    "            self.date=date\n",
    "        else:\n",
    "            self.date=datetime.now()\n",
    "        self.filename=filename\n",
    "        self.validated=False\n",
    "        self.user_name=user_name\n",
    "        self.patient_id=patient_id\n",
    "    \n",
    "    def process(self):\n",
    "        self.readfile()\n",
    "        file = self.write_file()\n",
    "        return file\n",
    "        \n",
    "    def validate_file(self, header_arr):\n",
    "        if len(header_arr)!=2:\n",
    "            raise Exception('Columns size must be exactly 2')\n",
    "            \n",
    "        if header_arr[0]!='Timestamp':\n",
    "            raise Exception('First column has to be a timestamp')\n",
    "            \n",
    "        if header_arr[1]!='Glucose Reading/Event':\n",
    "            raise Exception('Second column has to be the actual readings')\n",
    "        \n",
    "        return True\n",
    "            \n",
    "        \n",
    "    def readfile(self):\n",
    "        rows = []\n",
    "        with open(ultra_file, mode ='r')as file:\n",
    "          # reading the CSV file\n",
    "          csvFile = csv.reader(file)\n",
    "          # displaying the contents of the CSV file\n",
    "          for lines in csvFile:\n",
    "                rows.append(lines)\n",
    "        \n",
    "        # validating header\n",
    "        self.validation = self.validate_file(rows[0])\n",
    "        \n",
    "        self.timestamps_raw = []\n",
    "        self.timestamps_out = []\n",
    "        self.values = []\n",
    "        self.id=[]\n",
    "        self.type=[]\n",
    "        # converting proper timestamps and readings\n",
    "        for ii, item in enumerate(rows[1:]):\n",
    "            try:\n",
    "                dt_raw = datetime.strptime(item[0], '%B %d %Y, %I:%M %p')\n",
    "                dt_out = dt_raw.strftime('%Y/%m/%d %H:%M')\n",
    "                self.timestamps_raw.append(dt_raw)        \n",
    "                self.timestamps_out.append(dt_out)        \n",
    "                self.values.append(int(item[1]))\n",
    "                if ii==0:\n",
    "                    self.id.append(int(dt_raw.timestamp())-1680000000)\n",
    "                else:\n",
    "                    self.id.append(self.id[-1]+1)\n",
    "                self.type.append(0)\n",
    "            except Exception as e:\n",
    "                print(\"Failed parsing this row: %d\"%ii)\n",
    "                print(item)\n",
    "    \n",
    "    def write_normal_file(self, out_path):\n",
    "        data = [['ID', 'Time', 'Record Type', 'Historic Glucose (mg/dL)']]\n",
    "        for ii in range(len(self.id)):\n",
    "            d = [self.id[ii], self.timestamps_out[ii], self.type[ii], self.values[ii]]\n",
    "            data.append(d)\n",
    "        out_file = os.path.join(out_path, '%s-%s-%s.txt'%(self.patient_id, self.user_name.split(' ')[0], self.date.strftime('%d-%m-%Y')))\n",
    "\n",
    "\n",
    "\n",
    "        with open(out_file, 'w', newline='') as file:\n",
    "            file.write(\"%s\\n\"%self.user_name)\n",
    "            file.write(\"#%s\\n\"%self.patient_id)\n",
    "            writer = csv.writer(file, delimiter='\\t')\n",
    "            writer.writerows(data)\n",
    "\n",
    "        print(f'{filename} created successfully.')\n",
    "    \n",
    "    def write_file(self):\n",
    "        print(len(self.id), len(self.timestamps_out), len(self.type),len(self.values))\n",
    "        df= pd.DataFrame({'ID':self.id,\n",
    "                     'Time': self.timestamps_out[1:],\n",
    "                     'Record Type':self.type,\n",
    "                     'Historic Glucose (mg/dL)':self.values})\n",
    "        return df.to_csv()"
   ]
  },
  {
   "cell_type": "code",
   "execution_count": 29,
   "id": "7c1cc8be",
   "metadata": {},
   "outputs": [
    {
     "name": "stdout",
     "output_type": "stream",
     "text": [
      "Failed parsing this row: 114\n",
      "['May 25 2023,  2:45 PM', 'Lunch']\n",
      "183 184 183 183\n"
     ]
    }
   ],
   "source": [
    "file = Ultra2Normal(ultra_file, 'temp', '123').process()"
   ]
  },
  {
   "cell_type": "code",
   "execution_count": 36,
   "id": "2f388d35",
   "metadata": {},
   "outputs": [
    {
     "data": {
      "text/plain": [
       "'sankalp\\n123\\nasd'"
      ]
     },
     "execution_count": 36,
     "metadata": {},
     "output_type": "execute_result"
    }
   ],
   "source": [
    "\"%s\\n%s\\n%s\"%('sankalp'.split(' ')[0], str(123), str('asd'))"
   ]
  },
  {
   "cell_type": "markdown",
   "id": "3a4c5b70",
   "metadata": {},
   "source": [
    "# Scratch pad"
   ]
  },
  {
   "cell_type": "code",
   "execution_count": null,
   "id": "56bdea03",
   "metadata": {},
   "outputs": [],
   "source": [
    "# !pip install streamlit\n",
    "# !pip install streamlit-jupyter"
   ]
  },
  {
   "cell_type": "code",
   "execution_count": null,
   "id": "0a1c4faa",
   "metadata": {},
   "outputs": [],
   "source": [
    "import streamlit as st\n",
    "\n",
    "from streamlit_jupyter import StreamlitPatcher, tqdm\n",
    "\n",
    "StreamlitPatcher().jupyter() "
   ]
  },
  {
   "cell_type": "code",
   "execution_count": null,
   "id": "26898f70",
   "metadata": {},
   "outputs": [],
   "source": [
    "if st.button('Say hello'):\n",
    "    st.write('Why hello there')\n",
    "else:\n",
    "    st.write('Goodbye')"
   ]
  },
  {
   "cell_type": "code",
   "execution_count": 7,
   "id": "8546e48c",
   "metadata": {},
   "outputs": [],
   "source": [
    "pd.DataFrame?"
   ]
  },
  {
   "cell_type": "code",
   "execution_count": null,
   "id": "7d087768",
   "metadata": {},
   "outputs": [],
   "source": []
  },
  {
   "cell_type": "code",
   "execution_count": 5,
   "id": "78cab625",
   "metadata": {},
   "outputs": [
    {
     "ename": "TypeError",
     "evalue": "a bytes-like object is required, not 'str'",
     "output_type": "error",
     "traceback": [
      "\u001b[0;31m---------------------------------------------------------------------------\u001b[0m",
      "\u001b[0;31mTypeError\u001b[0m                                 Traceback (most recent call last)",
      "Cell \u001b[0;32mIn[5], line 14\u001b[0m\n\u001b[1;32m     11\u001b[0m data \u001b[38;5;241m=\u001b[39m \u001b[38;5;124m\"\u001b[39m\u001b[38;5;124mName,Age\u001b[39m\u001b[38;5;130;01m\\n\u001b[39;00m\u001b[38;5;124mJohn Doe,30\u001b[39m\u001b[38;5;130;01m\\n\u001b[39;00m\u001b[38;5;124mJane Doe,25\u001b[39m\u001b[38;5;124m\"\u001b[39m\u001b[38;5;241m.\u001b[39mencode(\u001b[38;5;124m\"\u001b[39m\u001b[38;5;124mutf-8\u001b[39m\u001b[38;5;124m\"\u001b[39m)\n\u001b[1;32m     13\u001b[0m \u001b[38;5;66;03m# Write the rows of the CSV file to the csv.writer object.\u001b[39;00m\n\u001b[0;32m---> 14\u001b[0m \u001b[43mwriter\u001b[49m\u001b[38;5;241;43m.\u001b[39;49m\u001b[43mwriterow\u001b[49m\u001b[43m(\u001b[49m\u001b[43mdata\u001b[49m\u001b[38;5;241;43m.\u001b[39;49m\u001b[43msplitlines\u001b[49m\u001b[43m(\u001b[49m\u001b[43m)\u001b[49m\u001b[43m)\u001b[49m\n\u001b[1;32m     16\u001b[0m \u001b[38;5;66;03m# Get the value of the BytesIO object.\u001b[39;00m\n\u001b[1;32m     17\u001b[0m byte_io_value \u001b[38;5;241m=\u001b[39m byte_io\u001b[38;5;241m.\u001b[39mgetvalue()\n",
      "\u001b[0;31mTypeError\u001b[0m: a bytes-like object is required, not 'str'"
     ]
    }
   ],
   "source": [
    "import io\n",
    "import csv\n",
    "\n",
    "# Create a BytesIO object.\n",
    "byte_io = io.BytesIO()\n",
    "\n",
    "# Create a csv.writer object for the BytesIO object.\n",
    "writer = csv.writer(byte_io)\n",
    "\n",
    "# Encode the str object to a bytes object.\n",
    "data = \"Name,Age\\nJohn Doe,30\\nJane Doe,25\".encode(\"utf-8\")\n",
    "\n",
    "# Write the rows of the CSV file to the csv.writer object.\n",
    "writer.writerow(data.splitlines())\n",
    "\n",
    "# Get the value of the BytesIO object.\n",
    "byte_io_value = byte_io.getvalue()\n",
    "\n",
    "# Print the value of the BytesIO object.\n",
    "print(byte_io_value)\n"
   ]
  },
  {
   "cell_type": "code",
   "execution_count": null,
   "id": "2d22e9a8",
   "metadata": {},
   "outputs": [],
   "source": []
  },
  {
   "cell_type": "code",
   "execution_count": null,
   "id": "b490622e",
   "metadata": {},
   "outputs": [],
   "source": []
  }
 ],
 "metadata": {
  "kernelspec": {
   "display_name": "Python 3 (ipykernel)",
   "language": "python",
   "name": "python3"
  },
  "language_info": {
   "codemirror_mode": {
    "name": "ipython",
    "version": 3
   },
   "file_extension": ".py",
   "mimetype": "text/x-python",
   "name": "python",
   "nbconvert_exporter": "python",
   "pygments_lexer": "ipython3",
   "version": "3.9.16"
  }
 },
 "nbformat": 4,
 "nbformat_minor": 5
}
